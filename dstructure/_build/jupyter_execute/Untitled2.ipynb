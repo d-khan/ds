{
 "cells": [
  {
   "cell_type": "markdown",
   "id": "b14156f9-cd35-4c79-91a2-1a107ebb468d",
   "metadata": {
    "tags": []
   },
   "source": [
    "# This is a test\n",
    "__Point 1__\n",
    "\n",
    "$e = mc^2$\n"
   ]
  },
  {
   "cell_type": "code",
   "execution_count": null,
   "id": "095737e1-78c8-43c8-96ff-38953422772c",
   "metadata": {},
   "outputs": [],
   "source": []
  }
 ],
 "metadata": {
  "kernelspec": {
   "display_name": "Python 3 (ipykernel)",
   "language": "python",
   "name": "python3"
  },
  "language_info": {
   "codemirror_mode": {
    "name": "ipython",
    "version": 3
   },
   "file_extension": ".py",
   "mimetype": "text/x-python",
   "name": "python",
   "nbconvert_exporter": "python",
   "pygments_lexer": "ipython3",
   "version": "3.11.0"
  }
 },
 "nbformat": 4,
 "nbformat_minor": 5
}
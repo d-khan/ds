{
 "cells": [
  {
   "cell_type": "code",
   "execution_count": 1,
   "id": "5fa2597f-8ece-4fdc-b6de-2f088b9f5af3",
   "metadata": {},
   "outputs": [],
   "source": [
    "x = 0"
   ]
  },
  {
   "cell_type": "code",
   "execution_count": 2,
   "id": "4c4dcc72-d71e-4a0a-a9ef-1099ad88aa45",
   "metadata": {},
   "outputs": [
    {
     "name": "stdout",
     "output_type": "stream",
     "text": [
      "0\n"
     ]
    }
   ],
   "source": [
    "print(x)"
   ]
  },
  {
   "cell_type": "code",
   "execution_count": 3,
   "id": "bf1f0cbe-2732-4dab-a173-93753df5f001",
   "metadata": {},
   "outputs": [
    {
     "name": "stdout",
     "output_type": "stream",
     "text": [
      "Hello World\n"
     ]
    }
   ],
   "source": [
    "x = \"Hello World\"\n",
    "print(x)"
   ]
  },
  {
   "cell_type": "code",
   "execution_count": 4,
   "id": "fe3c9b4c-63e2-476c-a30e-59b0c61a302e",
   "metadata": {},
   "outputs": [],
   "source": [
    "my_email = \"dkhan1010@gmail.com\""
   ]
  },
  {
   "cell_type": "code",
   "execution_count": null,
   "id": "48ec8d20-8605-4f32-b433-3f35c0b8d727",
   "metadata": {},
   "outputs": [],
   "source": []
  }
 ],
 "metadata": {
  "kernelspec": {
   "display_name": "Python 3 (ipykernel)",
   "language": "python",
   "name": "python3"
  },
  "language_info": {
   "codemirror_mode": {
    "name": "ipython",
    "version": 3
   },
   "file_extension": ".py",
   "mimetype": "text/x-python",
   "name": "python",
   "nbconvert_exporter": "python",
   "pygments_lexer": "ipython3",
   "version": "3.11.0"
  }
 },
 "nbformat": 4,
 "nbformat_minor": 5
}
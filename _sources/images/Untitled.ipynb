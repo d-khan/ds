{
 "cells": [
  {
   "cell_type": "code",
   "execution_count": 1,
   "id": "a4cc254c-1b30-4ea5-b5c3-281e88f1a95f",
   "metadata": {},
   "outputs": [],
   "source": [
    "data = [\"apples\",\"oranges\",\"grapes\",\"pineapple\"]"
   ]
  },
  {
   "cell_type": "code",
   "execution_count": 2,
   "id": "294e09f2-0dea-4119-aec8-63730e2d57e0",
   "metadata": {},
   "outputs": [
    {
     "name": "stdout",
     "output_type": "stream",
     "text": [
      "apples\n",
      "oranges\n",
      "grapes\n",
      "pineapple\n"
     ]
    }
   ],
   "source": [
    "for i in data: print(i)"
   ]
  },
  {
   "cell_type": "code",
   "execution_count": 3,
   "id": "1132ddf6-755b-4591-a8ba-0aa4e8ef2adc",
   "metadata": {},
   "outputs": [],
   "source": [
    "data.append(\"kiwi\")"
   ]
  },
  {
   "cell_type": "code",
   "execution_count": 4,
   "id": "b9fc2f59-71ee-4ba4-bb84-1303ead3f524",
   "metadata": {},
   "outputs": [
    {
     "data": {
      "text/plain": [
       "['apples', 'oranges', 'grapes', 'pineapple', 'kiwi']"
      ]
     },
     "execution_count": 4,
     "metadata": {},
     "output_type": "execute_result"
    }
   ],
   "source": [
    "data"
   ]
  },
  {
   "cell_type": "code",
   "execution_count": 5,
   "id": "e9401761-a97d-48fd-8fee-61542b4f4310",
   "metadata": {},
   "outputs": [
    {
     "data": {
      "text/plain": [
       "'apples'"
      ]
     },
     "execution_count": 5,
     "metadata": {},
     "output_type": "execute_result"
    }
   ],
   "source": [
    "data[0]"
   ]
  },
  {
   "cell_type": "code",
   "execution_count": null,
   "id": "e583ba0a-9243-40d5-9310-85b3ac1a9dbe",
   "metadata": {},
   "outputs": [],
   "source": []
  }
 ],
 "metadata": {
  "kernelspec": {
   "display_name": "Python 3 (ipykernel)",
   "language": "python",
   "name": "python3"
  },
  "language_info": {
   "codemirror_mode": {
    "name": "ipython",
    "version": 3
   },
   "file_extension": ".py",
   "mimetype": "text/x-python",
   "name": "python",
   "nbconvert_exporter": "python",
   "pygments_lexer": "ipython3",
   "version": "3.9.6"
  }
 },
 "nbformat": 4,
 "nbformat_minor": 5
}

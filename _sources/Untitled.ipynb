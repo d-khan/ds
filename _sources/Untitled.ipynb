{
 "cells": [
  {
   "cell_type": "code",
   "execution_count": 1,
   "id": "b0cc8923-06da-4e4c-8169-0e60a5b4318e",
   "metadata": {},
   "outputs": [],
   "source": [
    "medical_record = {123456789: \"John Smith\", \"Italy\": \"Rome\", \"England\": \"London\"}"
   ]
  },
  {
   "cell_type": "code",
   "execution_count": 2,
   "id": "01645989-2388-4e0e-8444-5e1684f7a0b4",
   "metadata": {},
   "outputs": [
    {
     "data": {
      "text/plain": [
       "dict_keys([123456789, 'Italy', 'England'])"
      ]
     },
     "execution_count": 2,
     "metadata": {},
     "output_type": "execute_result"
    }
   ],
   "source": [
    "medical_record.keys()"
   ]
  },
  {
   "cell_type": "code",
   "execution_count": 5,
   "id": "96ff505a-595a-4dc2-97ca-1fec764e47b4",
   "metadata": {},
   "outputs": [
    {
     "data": {
      "text/plain": [
       "dict_items([(123456789, 'John Smith'), ('Italy', 'Rome'), ('England', 'London')])"
      ]
     },
     "execution_count": 5,
     "metadata": {},
     "output_type": "execute_result"
    }
   ],
   "source": [
    "medical_record.items()"
   ]
  },
  {
   "cell_type": "code",
   "execution_count": 8,
   "id": "830e6feb-e8a1-4094-b20b-526e05e3a631",
   "metadata": {},
   "outputs": [
    {
     "data": {
      "text/plain": [
       "-3136042103618359464"
      ]
     },
     "execution_count": 8,
     "metadata": {},
     "output_type": "execute_result"
    }
   ],
   "source": [
    "hash(\"Hello World\")"
   ]
  },
  {
   "cell_type": "code",
   "execution_count": 9,
   "id": "bbe302b8-adad-4025-9678-1f267a9a54ed",
   "metadata": {},
   "outputs": [
    {
     "data": {
      "text/plain": [
       "4204926829420609594"
      ]
     },
     "execution_count": 9,
     "metadata": {},
     "output_type": "execute_result"
    }
   ],
   "source": [
    "hash(\"H\")"
   ]
  },
  {
   "cell_type": "code",
   "execution_count": 12,
   "id": "99d78db6-d968-405c-885b-e1c055846d32",
   "metadata": {},
   "outputs": [
    {
     "data": {
      "text/plain": [
       "-6006963121895799785"
      ]
     },
     "execution_count": 12,
     "metadata": {},
     "output_type": "execute_result"
    }
   ],
   "source": [
    "hash(\"Hello\")"
   ]
  },
  {
   "cell_type": "code",
   "execution_count": 13,
   "id": "38d1559b-abc9-41f8-9871-3bf0e8f19536",
   "metadata": {},
   "outputs": [
    {
     "data": {
      "text/plain": [
       "-8735649892614780427"
      ]
     },
     "execution_count": 13,
     "metadata": {},
     "output_type": "execute_result"
    }
   ],
   "source": [
    "hash(\"hi\")"
   ]
  },
  {
   "cell_type": "code",
   "execution_count": null,
   "id": "996efb8d-1e61-42e2-a6a1-aa9f475f246a",
   "metadata": {},
   "outputs": [],
   "source": []
  }
 ],
 "metadata": {
  "kernelspec": {
   "display_name": "Python 3 (ipykernel)",
   "language": "python",
   "name": "python3"
  },
  "language_info": {
   "codemirror_mode": {
    "name": "ipython",
    "version": 3
   },
   "file_extension": ".py",
   "mimetype": "text/x-python",
   "name": "python",
   "nbconvert_exporter": "python",
   "pygments_lexer": "ipython3",
   "version": "3.9.13"
  }
 },
 "nbformat": 4,
 "nbformat_minor": 5
}
